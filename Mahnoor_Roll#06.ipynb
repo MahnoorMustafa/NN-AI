{
 "cells": [
  {
   "cell_type": "markdown",
   "id": "1776f63f",
   "metadata": {},
   "source": [
    "### Assignment-02\n",
    "- Change the notebook name with your name and Roll Number.\n",
    "- Try this as your own, no chatgpt (it's for your learning)\n",
    "- after completing the assignment, submit this book on google class room."
   ]
  },
  {
   "cell_type": "markdown",
   "id": "5bc28c35",
   "metadata": {},
   "source": [
    "Declare and print a variable with the name \"name\" containing your name.\n"
   ]
  },
  {
   "cell_type": "code",
   "execution_count": 50,
   "id": "4eb1e464",
   "metadata": {},
   "outputs": [
    {
     "data": {
      "text/plain": [
       "'Mahnoor'"
      ]
     },
     "execution_count": 50,
     "metadata": {},
     "output_type": "execute_result"
    }
   ],
   "source": [
    "name = \"Mahnoor\"\n",
    "name"
   ]
  },
  {
   "cell_type": "code",
   "execution_count": 49,
   "id": "3511e685",
   "metadata": {},
   "outputs": [
    {
     "ename": "SyntaxError",
     "evalue": "invalid syntax (3799061152.py, line 1)",
     "output_type": "error",
     "traceback": [
      "\u001b[1;36m  Cell \u001b[1;32mIn[49], line 1\u001b[1;36m\u001b[0m\n\u001b[1;33m    Create two variables, x and y, and swap their values without using a third variable.\u001b[0m\n\u001b[1;37m           ^\u001b[0m\n\u001b[1;31mSyntaxError\u001b[0m\u001b[1;31m:\u001b[0m invalid syntax\n"
     ]
    }
   ],
   "source": [
    "Create two variables, x and y, and swap their values without using a third variable."
   ]
  },
  {
   "cell_type": "code",
   "execution_count": 9,
   "id": "5734b25c",
   "metadata": {},
   "outputs": [
    {
     "name": "stdout",
     "output_type": "stream",
     "text": [
      "X is =  3 Y is =  1\n"
     ]
    }
   ],
   "source": [
    "x= 1\n",
    "y= 3\n",
    "\n",
    "x , y = y , x\n",
    "\n",
    "print(\"X is = \",x, \"Y is = \",y)"
   ]
  },
  {
   "cell_type": "markdown",
   "id": "68c5f126",
   "metadata": {},
   "source": [
    "Calculate the area of a rectangle with length and width stored in variables.\n"
   ]
  },
  {
   "cell_type": "code",
   "execution_count": 10,
   "id": "efead34a",
   "metadata": {},
   "outputs": [
    {
     "data": {
      "text/plain": [
       "15"
      ]
     },
     "execution_count": 10,
     "metadata": {},
     "output_type": "execute_result"
    }
   ],
   "source": [
    "L = 3\n",
    "w = 5\n",
    "\n",
    "area = L * w\n",
    "\n",
    "area"
   ]
  },
  {
   "cell_type": "markdown",
   "id": "e452ae4d",
   "metadata": {},
   "source": [
    "Create a variable with a long string (multi-line) and print its length."
   ]
  },
  {
   "cell_type": "code",
   "execution_count": 11,
   "id": "0f7d6636",
   "metadata": {},
   "outputs": [
    {
     "data": {
      "text/plain": [
       "13"
      ]
     },
     "execution_count": 11,
     "metadata": {},
     "output_type": "execute_result"
    }
   ],
   "source": [
    "var = \"\"\"mahnoor\n",
    "23\n",
    "pu\"\"\"\n",
    "\n",
    "len(var)"
   ]
  },
  {
   "cell_type": "markdown",
   "id": "708def01",
   "metadata": {},
   "source": [
    "Create a variable to store your favorite number and print it."
   ]
  },
  {
   "cell_type": "code",
   "execution_count": 12,
   "id": "d810e261",
   "metadata": {},
   "outputs": [
    {
     "name": "stdout",
     "output_type": "stream",
     "text": [
      "5\n"
     ]
    }
   ],
   "source": [
    "var = 5\n",
    "print(var)"
   ]
  },
  {
   "cell_type": "markdown",
   "id": "9088a41e",
   "metadata": {},
   "source": [
    "Declare and assign values to multiple variables to represent the sides of a triangle. Calculate and print its perimeter.\n"
   ]
  },
  {
   "cell_type": "code",
   "execution_count": 13,
   "id": "13d9d2d2",
   "metadata": {},
   "outputs": [
    {
     "data": {
      "text/plain": [
       "15"
      ]
     },
     "execution_count": 13,
     "metadata": {},
     "output_type": "execute_result"
    }
   ],
   "source": [
    "s1 = 3\n",
    "s2 = 5\n",
    "s3 = 7\n",
    "\n",
    "perimeter = s1 + s2 +s3\n",
    "\n",
    "perimeter"
   ]
  },
  {
   "cell_type": "markdown",
   "id": "a76f2d4f",
   "metadata": {},
   "source": [
    "Store the price of an item in one variable and the quantity in another. Calculate and print the total cost.\n"
   ]
  },
  {
   "cell_type": "code",
   "execution_count": 14,
   "id": "8cc9115b",
   "metadata": {},
   "outputs": [
    {
     "data": {
      "text/plain": [
       "180"
      ]
     },
     "execution_count": 14,
     "metadata": {},
     "output_type": "execute_result"
    }
   ],
   "source": [
    "price_of_item = 45\n",
    "quantity_item = 4\n",
    "\n",
    "total_cost = price_of_item * quantity_item\n",
    "\n",
    "total_cost"
   ]
  },
  {
   "cell_type": "markdown",
   "id": "7d9d0793",
   "metadata": {},
   "source": [
    "Declare a constant variable for the value of pi (π) and use it to calculate the circumference of a circle with a given radius."
   ]
  },
  {
   "cell_type": "code",
   "execution_count": 16,
   "id": "254f3e92",
   "metadata": {},
   "outputs": [
    {
     "data": {
      "text/plain": [
       "62.800000000000004"
      ]
     },
     "execution_count": 16,
     "metadata": {},
     "output_type": "execute_result"
    }
   ],
   "source": [
    "pie = 3.14\n",
    "rad = 10\n",
    "\n",
    "cir = 2* (pie * rad)\n",
    "\n",
    "cir"
   ]
  },
  {
   "cell_type": "markdown",
   "id": "2415eca0",
   "metadata": {},
   "source": [
    "Calculate the sum of two numbers, a and b."
   ]
  },
  {
   "cell_type": "code",
   "execution_count": 17,
   "id": "8eeee19d",
   "metadata": {},
   "outputs": [
    {
     "data": {
      "text/plain": [
       "9"
      ]
     },
     "execution_count": 17,
     "metadata": {},
     "output_type": "execute_result"
    }
   ],
   "source": [
    "a = 4\n",
    "b = 5\n",
    "sum = a + b\n",
    "sum"
   ]
  },
  {
   "cell_type": "markdown",
   "id": "2f3f9653",
   "metadata": {},
   "source": [
    "Calculate the product of two numbers, a and b.\n"
   ]
  },
  {
   "cell_type": "code",
   "execution_count": 18,
   "id": "baac0709",
   "metadata": {},
   "outputs": [
    {
     "data": {
      "text/plain": [
       "6"
      ]
     },
     "execution_count": 18,
     "metadata": {},
     "output_type": "execute_result"
    }
   ],
   "source": [
    "a = 2 \n",
    "b = 3\n",
    "product = a * b\n",
    "product"
   ]
  },
  {
   "cell_type": "markdown",
   "id": "263bb83b",
   "metadata": {},
   "source": [
    "Calculate the result of dividing a by b (with proper error handling for division by zero).\n"
   ]
  },
  {
   "cell_type": "code",
   "execution_count": 19,
   "id": "783ef794",
   "metadata": {},
   "outputs": [
    {
     "name": "stdout",
     "output_type": "stream",
     "text": [
      "Not applicable\n"
     ]
    }
   ],
   "source": [
    "a = 20\n",
    "b = 0\n",
    "\n",
    "if b!= 0 :\n",
    "    div = a / b\n",
    "    div\n",
    "else :\n",
    "    print(\"Not applicable\")"
   ]
  },
  {
   "cell_type": "markdown",
   "id": "1160a016",
   "metadata": {},
   "source": [
    "Calculate the square of a number x."
   ]
  },
  {
   "cell_type": "code",
   "execution_count": 20,
   "id": "ba1443de",
   "metadata": {},
   "outputs": [
    {
     "data": {
      "text/plain": [
       "16"
      ]
     },
     "execution_count": 20,
     "metadata": {},
     "output_type": "execute_result"
    }
   ],
   "source": [
    "x = 4\n",
    "\n",
    "sqr = x**2\n",
    "\n",
    "sqr"
   ]
  },
  {
   "cell_type": "markdown",
   "id": "927cffd3",
   "metadata": {},
   "source": [
    "Calculate the remainder when a is divided by b."
   ]
  },
  {
   "cell_type": "code",
   "execution_count": 21,
   "id": "049756ea",
   "metadata": {},
   "outputs": [
    {
     "data": {
      "text/plain": [
       "4"
      ]
     },
     "execution_count": 21,
     "metadata": {},
     "output_type": "execute_result"
    }
   ],
   "source": [
    "a = 4\n",
    "b = 5\n",
    "\n",
    "rem = a % b\n",
    "rem"
   ]
  },
  {
   "cell_type": "code",
   "execution_count": null,
   "id": "f95b1e5c",
   "metadata": {},
   "outputs": [],
   "source": []
  },
  {
   "cell_type": "markdown",
   "id": "fad0381a",
   "metadata": {},
   "source": [
    " Calculate the result of dividing 17 by 3 and print the quotient and remainder."
   ]
  },
  {
   "cell_type": "code",
   "execution_count": 22,
   "id": "6bbe2ffb",
   "metadata": {},
   "outputs": [
    {
     "name": "stdout",
     "output_type": "stream",
     "text": [
      "quo :  5.666666666666667 rem :  2\n"
     ]
    }
   ],
   "source": [
    "a =17\n",
    "b = 3\n",
    "\n",
    "quo = a/ b\n",
    "rem = a% b\n",
    "\n",
    "print(\"quo : \", quo, \"rem : \", rem)"
   ]
  },
  {
   "cell_type": "markdown",
   "id": "0abdb0ba",
   "metadata": {},
   "source": [
    "Calculate the area of a square with a given side length.\n"
   ]
  },
  {
   "cell_type": "code",
   "execution_count": 23,
   "id": "4a0edefb",
   "metadata": {},
   "outputs": [
    {
     "data": {
      "text/plain": [
       "20"
      ]
     },
     "execution_count": 23,
     "metadata": {},
     "output_type": "execute_result"
    }
   ],
   "source": [
    "side = 5\n",
    "area = side*4\n",
    "\n",
    "area"
   ]
  },
  {
   "cell_type": "markdown",
   "id": "0c15704a",
   "metadata": {},
   "source": [
    "Calculate the average of five numbers.\n"
   ]
  },
  {
   "cell_type": "code",
   "execution_count": 24,
   "id": "ae66922d",
   "metadata": {},
   "outputs": [
    {
     "data": {
      "text/plain": [
       "14.4"
      ]
     },
     "execution_count": 24,
     "metadata": {},
     "output_type": "execute_result"
    }
   ],
   "source": [
    "n1= 2\n",
    "n2= 3\n",
    "n3= 5\n",
    "n4= 3\n",
    "n5= 7\n",
    "\n",
    "avg = n1+n2+n3+n4+n5/5\n",
    "\n",
    "avg"
   ]
  },
  {
   "cell_type": "markdown",
   "id": "da3cde84",
   "metadata": {},
   "source": [
    "Create a variable with a boolean value and print its opposite value.\n"
   ]
  },
  {
   "cell_type": "code",
   "execution_count": 27,
   "id": "0bb430b5",
   "metadata": {},
   "outputs": [
    {
     "name": "stdout",
     "output_type": "stream",
     "text": [
      "opposite :  False\n"
     ]
    }
   ],
   "source": [
    "var = True\n",
    "print(\"opposite : \", var == -1)\n",
    "\n"
   ]
  },
  {
   "cell_type": "markdown",
   "id": "d800b510",
   "metadata": {},
   "source": [
    "Store your birth year in a variable and calculate your age."
   ]
  },
  {
   "cell_type": "code",
   "execution_count": 29,
   "id": "94ac0a22",
   "metadata": {},
   "outputs": [
    {
     "data": {
      "text/plain": [
       "21"
      ]
     },
     "execution_count": 29,
     "metadata": {},
     "output_type": "execute_result"
    }
   ],
   "source": [
    "b = 2002\n",
    "current_year= 2023\n",
    "\n",
    "age = current_year-b\n",
    "\n",
    "age"
   ]
  },
  {
   "cell_type": "markdown",
   "id": "193bd0c7",
   "metadata": {},
   "source": [
    "Create a variable with an integer and convert it to a float."
   ]
  },
  {
   "cell_type": "code",
   "execution_count": 33,
   "id": "c862dfa4",
   "metadata": {},
   "outputs": [
    {
     "data": {
      "text/plain": [
       "(float, 5.0)"
      ]
     },
     "execution_count": 33,
     "metadata": {},
     "output_type": "execute_result"
    }
   ],
   "source": [
    "v = 5\n",
    "f = float(v)\n",
    "type(f), f"
   ]
  },
  {
   "cell_type": "markdown",
   "id": "d6e985ae",
   "metadata": {},
   "source": [
    "Create a variable with a float and convert it to an integer."
   ]
  },
  {
   "cell_type": "code",
   "execution_count": 34,
   "id": "db782f94",
   "metadata": {},
   "outputs": [
    {
     "data": {
      "text/plain": [
       "(int, 6)"
      ]
     },
     "execution_count": 34,
     "metadata": {},
     "output_type": "execute_result"
    }
   ],
   "source": [
    "flo = 6.0\n",
    "integer = int(flo)\n",
    "type(integer), integer"
   ]
  },
  {
   "cell_type": "markdown",
   "id": "03fbd24c",
   "metadata": {},
   "source": [
    "Create a variable with a string that represents an integer and convert it to an integer."
   ]
  },
  {
   "cell_type": "code",
   "execution_count": 35,
   "id": "15e98a9c",
   "metadata": {},
   "outputs": [
    {
     "data": {
      "text/plain": [
       "(int, 7)"
      ]
     },
     "execution_count": 35,
     "metadata": {},
     "output_type": "execute_result"
    }
   ],
   "source": [
    "var = '7'\n",
    "integer = int(var)\n",
    "type(integer), integer"
   ]
  },
  {
   "cell_type": "markdown",
   "id": "7b82ee26",
   "metadata": {},
   "source": [
    "Create a variable with a string that represents a float and convert it to a float.\n"
   ]
  },
  {
   "cell_type": "code",
   "execution_count": 36,
   "id": "31b96ee5",
   "metadata": {},
   "outputs": [
    {
     "data": {
      "text/plain": [
       "(float, 6.77)"
      ]
     },
     "execution_count": 36,
     "metadata": {},
     "output_type": "execute_result"
    }
   ],
   "source": [
    "var = '6.77'\n",
    "flo = float(var)\n",
    "type(flo), flo "
   ]
  },
  {
   "cell_type": "markdown",
   "id": "55b70302",
   "metadata": {},
   "source": [
    "Create a variable with a number and convert it to a string."
   ]
  },
  {
   "cell_type": "code",
   "execution_count": 37,
   "id": "191ca6c0",
   "metadata": {},
   "outputs": [
    {
     "data": {
      "text/plain": [
       "(str, '7')"
      ]
     },
     "execution_count": 37,
     "metadata": {},
     "output_type": "execute_result"
    }
   ],
   "source": [
    "var = 7\n",
    "st = str(var)\n",
    "type(st), st"
   ]
  },
  {
   "cell_type": "markdown",
   "id": "12030234",
   "metadata": {},
   "source": [
    "Calculate the absolute value of a number.\n",
    "\n"
   ]
  },
  {
   "cell_type": "code",
   "execution_count": 40,
   "id": "e6e2dbb2",
   "metadata": {},
   "outputs": [
    {
     "data": {
      "text/plain": [
       "4.6666"
      ]
     },
     "execution_count": 40,
     "metadata": {},
     "output_type": "execute_result"
    }
   ],
   "source": [
    "value = - 4.6666\n",
    "absolute = abs(value)\n",
    "\n",
    "absolute"
   ]
  },
  {
   "cell_type": "markdown",
   "id": "0bcb4315",
   "metadata": {},
   "source": [
    "Calculate the square root of a number.\n"
   ]
  },
  {
   "cell_type": "code",
   "execution_count": 41,
   "id": "1ffc86be",
   "metadata": {},
   "outputs": [
    {
     "data": {
      "text/plain": [
       "5.0"
      ]
     },
     "execution_count": 41,
     "metadata": {},
     "output_type": "execute_result"
    }
   ],
   "source": [
    "n = 25\n",
    "sqr = 25**0.5\n",
    "\n",
    "sqr"
   ]
  },
  {
   "cell_type": "markdown",
   "id": "3b8743eb",
   "metadata": {},
   "source": [
    "Calculate the value of a raised to the power of b.\n"
   ]
  },
  {
   "cell_type": "code",
   "execution_count": 42,
   "id": "d278563f",
   "metadata": {},
   "outputs": [
    {
     "data": {
      "text/plain": [
       "100000"
      ]
     },
     "execution_count": 42,
     "metadata": {},
     "output_type": "execute_result"
    }
   ],
   "source": [
    "a = 10\n",
    "b = 5\n",
    "\n",
    "value = a**b\n",
    "\n",
    "value"
   ]
  },
  {
   "cell_type": "code",
   "execution_count": null,
   "id": "41c65c05",
   "metadata": {},
   "outputs": [],
   "source": []
  },
  {
   "cell_type": "markdown",
   "id": "d06e7a77",
   "metadata": {},
   "source": [
    "Round a float to the nearest integer."
   ]
  },
  {
   "cell_type": "code",
   "execution_count": 43,
   "id": "2f5873c3",
   "metadata": {},
   "outputs": [
    {
     "data": {
      "text/plain": [
       "7"
      ]
     },
     "execution_count": 43,
     "metadata": {},
     "output_type": "execute_result"
    }
   ],
   "source": [
    "flo = 6.7777777\n",
    "integer = round(flo)\n",
    "\n",
    "integer"
   ]
  },
  {
   "cell_type": "markdown",
   "id": "34f33237",
   "metadata": {},
   "source": [
    "Combine multiple conditions using logical operators and print the result."
   ]
  },
  {
   "cell_type": "code",
   "execution_count": 46,
   "id": "687d14b0",
   "metadata": {},
   "outputs": [
    {
     "name": "stdout",
     "output_type": "stream",
     "text": [
      "0.08928571428571429\n",
      "11.2\n",
      "False\n"
     ]
    }
   ],
   "source": [
    "x = 5\n",
    "y = 56\n",
    "\n",
    "a = ((x<= 5) and  x/ y)\n",
    "b = ((x>y) or y/x)\n",
    "c = (not x)\n",
    "\n",
    "print (a)\n",
    "print (b)\n",
    "print (c)"
   ]
  },
  {
   "cell_type": "markdown",
   "id": "ab20128b",
   "metadata": {},
   "source": [
    "Generate a random number between 1 and 100.**(challenging)**\n"
   ]
  },
  {
   "cell_type": "code",
   "execution_count": 47,
   "id": "43ac553b",
   "metadata": {},
   "outputs": [
    {
     "data": {
      "text/plain": [
       "29"
      ]
     },
     "execution_count": 47,
     "metadata": {},
     "output_type": "execute_result"
    }
   ],
   "source": [
    "import random\n",
    "\n",
    "random = random.randint(1,100)\n",
    "\n",
    "random"
   ]
  },
  {
   "cell_type": "code",
   "execution_count": null,
   "id": "08b1a18f",
   "metadata": {},
   "outputs": [],
   "source": []
  },
  {
   "cell_type": "code",
   "execution_count": null,
   "id": "614ec84c",
   "metadata": {},
   "outputs": [],
   "source": []
  }
 ],
 "metadata": {
  "kernelspec": {
   "display_name": "Python 3 (ipykernel)",
   "language": "python",
   "name": "python3"
  },
  "language_info": {
   "codemirror_mode": {
    "name": "ipython",
    "version": 3
   },
   "file_extension": ".py",
   "mimetype": "text/x-python",
   "name": "python",
   "nbconvert_exporter": "python",
   "pygments_lexer": "ipython3",
   "version": "3.11.5"
  }
 },
 "nbformat": 4,
 "nbformat_minor": 5
}
